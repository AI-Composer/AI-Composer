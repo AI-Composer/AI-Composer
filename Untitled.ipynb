{
 "cells": [
  {
   "cell_type": "code",
   "execution_count": null,
   "metadata": {},
   "outputs": [],
   "source": [
    "import music21\n",
    "import os\n",
    "import torch"
   ]
  },
  {
   "cell_type": "code",
   "execution_count": null,
   "metadata": {},
   "outputs": [],
   "source": [
    "midi_file = 'simple_data/hpps3.mid'\n",
    "stream=music21.converter.parse(midi_file)\n",
    "# instru=music21.instrument.partitionByInstrument(stream)\n",
    "stream.show('text')"
   ]
  },
  {
   "cell_type": "code",
   "execution_count": null,
   "metadata": {},
   "outputs": [],
   "source": [
    "melody = stream[0]\n",
    "print(\"offset\\tduration pitchID volume\")\n",
    "for note in melody:\n",
    "    if isinstance(note, music21.note.Note):\n",
    "#         for name,value in note.__dict__.items():\n",
    "#             print('%s=%s'%(name,value))\n",
    "        print(note.offset,\"\\t\", note.duration.quarterLength,\"\\t\", note.pitch.ps,\"\\t\", note.volume.getRealized())\n",
    "melody.plot('pianoroll')"
   ]
  },
  {
   "cell_type": "code",
   "execution_count": null,
   "metadata": {
    "scrolled": true
   },
   "outputs": [],
   "source": [
    "import os\n",
    "file_dir = 'simple_data'\n",
    "files = os.listdir(file_dir)\n",
    "tonic = None\n",
    "\n",
    "for file in files:\n",
    "    note_list = []\n",
    "    stream = music21.converter.parse(os.path.join(file_dir,file))\n",
    "#     midi_file = 'simple_data/hpps3.mid'\n",
    "#     stream=music21.converter.parse(midi_file)\n",
    "    key = stream[0][0]\n",
    "    print(key.name.split(\" \")[1])\n",
    "    shift = music21.interval.Interval()\n",
    "    tonicID = key.tonic.ps\n",
    "    print(tonicID)\n",
    "    melody = stream[0]\n",
    "#     for note in melody:\n",
    "#         if isinstance(note, music21.note.Note):\n",
    "#             print(note.pitch.ps - tonicID)\n",
    "#     break\n",
    "    "
   ]
  },
  {
   "cell_type": "code",
   "execution_count": 3,
   "metadata": {},
   "outputs": [],
   "source": [
    "import pickle\n",
    "from Melody_LSTM.data import *\n",
    "pickle_file = \"Sequences_intervel_1.pkl\"\n",
    "with open(pickle_file, 'rb') as f:\n",
    "    Sequences = pickle.load(f)"
   ]
  },
  {
   "cell_type": "code",
   "execution_count": 9,
   "metadata": {},
   "outputs": [
    {
     "name": "stdout",
     "output_type": "stream",
     "text": [
      "1034\n",
      "0 13117\n",
      "1.0 46338\n",
      "2.0 4561\n",
      "1.5 6293\n",
      "0.5 65113\n",
      "0.25 2392\n",
      "3.0 952\n",
      "1/3 795\n",
      "4.0 292\n",
      "0.75 245\n",
      "2/3 6\n",
      "2.5 2\n"
     ]
    }
   ],
   "source": [
    "dict = {}\n",
    "print(len(Sequences))\n",
    "for seq in Sequences:\n",
    "    for note in seq:\n",
    "        d = note.duration\n",
    "        if d not in dict.keys():\n",
    "            dict[d] = 1\n",
    "        else:\n",
    "            dict[d] += 1\n",
    "for key, value in dict.items():\n",
    "    print(key, value)"
   ]
  },
  {
   "cell_type": "code",
   "execution_count": 11,
   "metadata": {},
   "outputs": [
    {
     "name": "stdout",
     "output_type": "stream",
     "text": [
      "1034\n",
      "0 26655\n",
      "9.0 6076\n",
      "8.0 6839\n",
      "6.0 6552\n",
      "5.0 9019\n",
      "7.0 12588\n",
      "4.0 19550\n",
      "3.0 11202\n",
      "11.0 2190\n",
      "10.0 3094\n",
      "1.0 11190\n",
      "-1.0 3143\n",
      "2.0 15763\n",
      "-3.0 3234\n",
      "12.0 510\n",
      "-2.0 1656\n",
      "-4.0 452\n",
      "-5.0 210\n",
      "-6.0 71\n",
      "-7.0 33\n",
      "14.0 27\n",
      "13.0 33\n",
      "-8.0 19\n"
     ]
    }
   ],
   "source": [
    "dict = {}\n",
    "print(len(Sequences))\n",
    "for seq in Sequences:\n",
    "    for note in seq:\n",
    "        d = note.pitchID\n",
    "        if d not in dict.keys():\n",
    "            dict[d] = 1\n",
    "        else:\n",
    "            dict[d] += 1\n",
    "for key, value in dict.items():\n",
    "    print(key, value)"
   ]
  },
  {
   "cell_type": "code",
   "execution_count": null,
   "metadata": {},
   "outputs": [],
   "source": []
  }
 ],
 "metadata": {
  "kernelspec": {
   "display_name": "Python 3",
   "language": "python",
   "name": "python3"
  },
  "language_info": {
   "codemirror_mode": {
    "name": "ipython",
    "version": 3
   },
   "file_extension": ".py",
   "mimetype": "text/x-python",
   "name": "python",
   "nbconvert_exporter": "python",
   "pygments_lexer": "ipython3",
   "version": "3.7.5"
  }
 },
 "nbformat": 4,
 "nbformat_minor": 4
}
